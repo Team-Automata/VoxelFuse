{
 "cells": [
  {
   "cell_type": "code",
   "execution_count": 1,
   "metadata": {},
   "outputs": [],
   "source": [
    "import k3d\n",
    "from voxelfuse.voxel_model import VoxelModel\n",
    "from voxelfuse.mesh import Mesh"
   ]
  },
  {
   "cell_type": "code",
   "execution_count": 2,
   "metadata": {
    "pycharm": {
     "name": "#%%\n"
    }
   },
   "outputs": [
    {
     "name": "stdout",
     "output_type": "stream",
     "text": [
      "Launching gmsh using: \"C:\\Users\\coleb\\Documents\\GitHub\\VoxelFuse\\voxelfuse\\utils\\gmsh.exe\" output.geo -3 -format msh\n"
     ]
    }
   ],
   "source": [
    "# Import file\n",
    "model = VoxelModel.fromMeshFile('axes.stl', (0, 0, 0))\n",
    "mesh = Mesh.fromMeshFile('axes.stl')"
   ]
  },
  {
   "cell_type": "code",
   "execution_count": 3,
   "metadata": {
    "pycharm": {
     "name": "#%%\n"
    }
   },
   "outputs": [
    {
     "data": {
      "application/vnd.jupyter.widget-view+json": {
       "model_id": "2c6ae2f7fdb44dbda7bf0be73b9f2ce4",
       "version_major": 2,
       "version_minor": 0
      },
      "text/plain": [
       "Output()"
      ]
     },
     "metadata": {},
     "output_type": "display_data"
    }
   ],
   "source": [
    "plot1 = k3d.plot()\n",
    "model.plot(plot1, 'model')\n",
    "mesh.plot(plot1, 'mesh')\n",
    "plot1.display()"
   ]
  },
  {
   "cell_type": "code",
   "execution_count": 4,
   "metadata": {
    "pycharm": {
     "name": "#%%\n"
    }
   },
   "outputs": [
    {
     "data": {
      "application/vnd.jupyter.widget-view+json": {
       "model_id": "5b88fd3d89b14916a2b1ed2de86f7336",
       "version_major": 2,
       "version_minor": 0
      },
      "text/plain": [
       "Output()"
      ]
     },
     "metadata": {},
     "output_type": "display_data"
    }
   ],
   "source": [
    "plot2 = k3d.plot()\n",
    "mesh.setColor((1, 0, 0, 1)).plot(plot2, 'original')\n",
    "mesh.scale(0.5).setColor((0, 0, 1, 1)).plot(plot2, 'scaled')\n",
    "plot2.display()"
   ]
  }
 ],
 "metadata": {
  "kernelspec": {
   "display_name": "Python 3",
   "language": "python",
   "name": "python3"
  },
  "language_info": {
   "codemirror_mode": {
    "name": "ipython",
    "version": 3
   },
   "file_extension": ".py",
   "mimetype": "text/x-python",
   "name": "python",
   "nbconvert_exporter": "python",
   "pygments_lexer": "ipython3",
   "version": "3.9.5"
  }
 },
 "nbformat": 4,
 "nbformat_minor": 1
}