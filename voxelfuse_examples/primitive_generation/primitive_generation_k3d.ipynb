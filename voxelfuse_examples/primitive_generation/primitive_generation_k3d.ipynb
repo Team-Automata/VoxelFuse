{
 "cells": [
  {
   "cell_type": "markdown",
   "metadata": {
    "pycharm": {
     "name": "#%% md\n"
    }
   },
   "source": [
    "Generate a series of primitive solids.\n",
    "\n",
    "Copyright 2021 - Cole Brauer, Dan Aukes\n",
    "\n",
    "---\n",
    "\n",
    "Import libraries"
   ]
  },
  {
   "cell_type": "code",
   "execution_count": 1,
   "metadata": {},
   "outputs": [],
   "source": [
    "import time\n",
    "import k3d\n",
    "import voxelfuse as vf"
   ]
  },
  {
   "cell_type": "markdown",
   "metadata": {},
   "source": [
    "Generate models"
   ]
  },
  {
   "cell_type": "code",
   "execution_count": 2,
   "metadata": {
    "pycharm": {
     "name": "#%%\n"
    }
   },
   "outputs": [],
   "source": [
    "model1 = vf.cube(11, (0, 0, 0), 1)\n",
    "model2 = vf.cuboid((11, 20, 6), (13, 0, 0), 2)\n",
    "model3 = vf.sphere(5, (31, 5, 5), 3)\n",
    "model4 = vf.cylinder(5, 15, (44, 5, 0), 4)\n",
    "model5 = vf.cone(1, 5, 15, (57, 5, 0), 5)\n",
    "model6 = vf.pyramid(0, 5, 15, (70, 5, 0), 6)\n",
    "\n",
    "model_result = model1 | model2 | model3 | model4 | model5 | model6"
   ]
  },
  {
   "cell_type": "markdown",
   "metadata": {},
   "source": [
    "Create plot from VoxelModel"
   ]
  },
  {
   "cell_type": "code",
   "execution_count": 3,
   "metadata": {
    "pycharm": {
     "name": "#%%\n"
    }
   },
   "outputs": [
    {
     "data": {
      "application/vnd.jupyter.widget-view+json": {
       "model_id": "676acac161824bbbad9ef0d409f0df60",
       "version_major": 2,
       "version_minor": 0
      },
      "text/plain": [
       "Output()"
      ]
     },
     "metadata": {},
     "output_type": "display_data"
    },
    {
     "name": "stdout",
     "output_type": "stream",
     "text": [
      "Time to generate plot: 0.44300031661987305 sec\n"
     ]
    }
   ],
   "source": [
    "# Save start time\n",
    "t1 = time.time()\n",
    "\n",
    "plotVM = model_result.plot()\n",
    "plotVM.display()\n",
    "\n",
    "# Get elapsed time\n",
    "t2 = time.time()\n",
    "timeVM = t2 - t1\n",
    "print('Time to generate plot: ' + str(timeVM) + ' sec')"
   ]
  },
  {
   "cell_type": "markdown",
   "metadata": {},
   "source": [
    "Create plot from Mesh"
   ]
  },
  {
   "cell_type": "code",
   "execution_count": 4,
   "metadata": {
    "pycharm": {
     "name": "#%%\n"
    }
   },
   "outputs": [
    {
     "name": "stderr",
     "output_type": "stream",
     "text": [
      "Finding exterior voxels: 100%|████████████████████████████████████████████████████████████████████████████████████████████████████████████████████████████████████████████████████████████████████████████████████████████████████████| 76/76 [00:00<00:00, 2111.22it/s]\n",
      "Meshing: 100%|████████████████████████████████████████████████████████████████████████████████████████████████████████████████████████████████████████████████████████████████████████████████████████████████████████████████████| 2831/2831 [00:02<00:00, 1080.53it/s]\n"
     ]
    },
    {
     "data": {
      "application/vnd.jupyter.widget-view+json": {
       "model_id": "b62011952f7a4527a0a25c93053ad40f",
       "version_major": 2,
       "version_minor": 0
      },
      "text/plain": [
       "Output()"
      ]
     },
     "metadata": {},
     "output_type": "display_data"
    },
    {
     "data": {
      "application/vnd.jupyter.widget-view+json": {
       "model_id": "411194c548f0493b836157391a61fae1",
       "version_major": 2,
       "version_minor": 0
      },
      "text/plain": [
       "Output()"
      ]
     },
     "metadata": {},
     "output_type": "display_data"
    },
    {
     "name": "stdout",
     "output_type": "stream",
     "text": [
      "Time to generate plots: 2.756999969482422 sec\n"
     ]
    }
   ],
   "source": [
    "# Save start time\n",
    "t1 = time.time()\n",
    "\n",
    "# Create mesh data\n",
    "mesh = vf.Mesh.fromVoxelModel(model_result)\n",
    "\n",
    "plotM1 = mesh.plot()\n",
    "plotM1.display()\n",
    "\n",
    "plotM2 = k3d.plot()\n",
    "model_result.plot(plotM2, outlines=False)\n",
    "mesh.plot(plotM2)\n",
    "plotM2.display()\n",
    "\n",
    "# Get elapsed time\n",
    "t2 = time.time()\n",
    "timeM = t2 - t1\n",
    "print('Time to generate plots: ' + str(timeM) + ' sec')"
   ]
  },
  {
   "cell_type": "markdown",
   "metadata": {},
   "source": [
    "Create plot from marching cubes mesh"
   ]
  },
  {
   "cell_type": "code",
   "execution_count": 5,
   "metadata": {},
   "outputs": [
    {
     "data": {
      "application/vnd.jupyter.widget-view+json": {
       "model_id": "076e5ba6cd1342a581c4d5fa7b05f64d",
       "version_major": 2,
       "version_minor": 0
      },
      "text/plain": [
       "Output()"
      ]
     },
     "metadata": {},
     "output_type": "display_data"
    },
    {
     "data": {
      "application/vnd.jupyter.widget-view+json": {
       "model_id": "81d881df184149d19d02f0d89e7163ab",
       "version_major": 2,
       "version_minor": 0
      },
      "text/plain": [
       "Output()"
      ]
     },
     "metadata": {},
     "output_type": "display_data"
    },
    {
     "name": "stdout",
     "output_type": "stream",
     "text": [
      "Time to generate plots: 0.08800077438354492 sec\n"
     ]
    }
   ],
   "source": [
    "# Save start time\n",
    "t1 = time.time()\n",
    "\n",
    "# Create mesh data\n",
    "mesh = vf.Mesh.marchingCubes(model_result)\n",
    "\n",
    "plotMC1 = mesh.plot()\n",
    "plotMC1.display()\n",
    "\n",
    "plotMC2 = k3d.plot()\n",
    "model_result.plot(plotMC2, outlines=False)\n",
    "mesh.plot(plotMC2)\n",
    "plotMC2.display()\n",
    "\n",
    "# Get elapsed time\n",
    "t2 = time.time()\n",
    "timeMC = t2 - t1\n",
    "print('Time to generate plots: ' + str(timeMC) + ' sec')"
   ]
  },
  {
   "cell_type": "markdown",
   "metadata": {},
   "source": [
    "Display different plot approaches side-by-side"
   ]
  },
  {
   "cell_type": "code",
   "execution_count": 8,
   "metadata": {
    "pycharm": {
     "name": "#%%\n"
    }
   },
   "outputs": [
    {
     "name": "stderr",
     "output_type": "stream",
     "text": [
      "Finding exterior voxels: 100%|████████████████████████████████████████████████████████████████████████████████████████████████████████████████████████████████████████████████████████████████████████████████████████████████████████| 76/76 [00:00<00:00, 2110.97it/s]\n",
      "Meshing: 100%|███████████████████████████████████████████████████████████████████████████████████████████████████████████████████████████████████████████████████████████████████████████████████████████████████████████████████| 2831/2831 [00:00<00:00, 32059.25it/s]\n"
     ]
    },
    {
     "data": {
      "application/vnd.jupyter.widget-view+json": {
       "model_id": "6ed91543ca7940e4941d7db00e88cbe3",
       "version_major": 2,
       "version_minor": 0
      },
      "text/plain": [
       "Output()"
      ]
     },
     "metadata": {},
     "output_type": "display_data"
    },
    {
     "data": {
      "application/vnd.jupyter.widget-view+json": {
       "model_id": "eb130aa4b3064da4874f16fdbd5ff51a",
       "version_major": 2,
       "version_minor": 0
      },
      "text/plain": [
       "Output()"
      ]
     },
     "metadata": {},
     "output_type": "display_data"
    },
    {
     "name": "stdout",
     "output_type": "stream",
     "text": [
      "Time to generate plots: 2.108654737472534 sec\n"
     ]
    }
   ],
   "source": [
    "# Save start time\n",
    "t1 = time.time()\n",
    "\n",
    "mesh1 = vf.Mesh.fromVoxelModel(model_result)\n",
    "mesh2 = vf.Mesh.marchingCubes(model_result)\n",
    "\n",
    "plotSolid = k3d.plot()\n",
    "# model_result.translate((0, 0, 80)).plot(plotSolid, name='voxels', outlines=False)\n",
    "mesh1.translate((0,0,60)).plot(plotSolid, name='mesh', wireframe=False)\n",
    "mesh1.simplify(0.2).translate((0,0,40)).plot(plotSolid, name='mesh simplified', wireframe=False)\n",
    "mesh2.translate((0,0,20)).plot(plotSolid, name='marching cubes', wireframe=False)\n",
    "mesh2.simplify(0.2).translate((0,0,0)).plot(plotSolid, name='marching cubes simplified', wireframe=False)\n",
    "plotSolid.display()\n",
    "\n",
    "plotWire = k3d.plot()\n",
    "# model_result.translate((0, 0, 80)).plot(plotWire, name='voxels', wireframe=True)\n",
    "mesh1.translate((0,0,60)).plot(plotWire, name='mesh')\n",
    "mesh1.simplify(0.2).translate((0,0,40)).plot(plotWire, name='mesh simplified')\n",
    "mesh2.translate((0,0,20)).plot(plotWire, name='marching cubes')\n",
    "mesh2.simplify(0.2).translate((0,0,0)).plot(plotWire, name='marching cubes simplified')\n",
    "plotWire.display()\n",
    "\n",
    "# Get elapsed time\n",
    "t2 = time.time()\n",
    "timeCombo = t2 - t1\n",
    "print('Time to generate plots: ' + str(timeCombo) + ' sec')"
   ]
  },
  {
   "cell_type": "code",
   "execution_count": null,
   "metadata": {},
   "outputs": [],
   "source": []
  }
 ],
 "metadata": {
  "kernelspec": {
   "display_name": "Python 3",
   "language": "python",
   "name": "python3"
  },
  "language_info": {
   "codemirror_mode": {
    "name": "ipython",
    "version": 3
   },
   "file_extension": ".py",
   "mimetype": "text/x-python",
   "name": "python",
   "nbconvert_exporter": "python",
   "pygments_lexer": "ipython3",
   "version": "3.9.5"
  }
 },
 "nbformat": 4,
 "nbformat_minor": 1
}