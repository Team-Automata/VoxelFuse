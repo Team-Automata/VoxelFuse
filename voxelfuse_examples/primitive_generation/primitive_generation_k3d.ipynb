{
 "cells": [
  {
   "cell_type": "markdown",
   "metadata": {
    "pycharm": {
     "name": "#%% md\n"
    }
   },
   "source": [
    "Generate a series of primitive solids.\n",
    "\n",
    "Copyright 2021 - Cole Brauer, Dan Aukes\n",
    "\n",
    "---\n",
    "\n",
    "Import libraries"
   ]
  },
  {
   "cell_type": "code",
   "execution_count": 1,
   "metadata": {},
   "outputs": [],
   "source": [
    "import time\n",
    "import k3d\n",
    "from voxelfuse.voxel_model import VoxelModel\n",
    "from voxelfuse.mesh import Mesh\n",
    "from voxelfuse.primitives import *"
   ]
  },
  {
   "cell_type": "markdown",
   "metadata": {},
   "source": [
    "Generate models"
   ]
  },
  {
   "cell_type": "code",
   "execution_count": 2,
   "metadata": {
    "pycharm": {
     "name": "#%%\n"
    }
   },
   "outputs": [],
   "source": [
    "model1 = cube(11, (0, 0, 0), 1)\n",
    "model2 = cuboid((11, 20, 6), (13, 0, 0), 2)\n",
    "model3 = sphere(5, (31, 5, 5), 3)\n",
    "model4 = cylinder(5, 15, (44, 5, 0), 4)\n",
    "model5 = cone(1, 5, 15, (57, 5, 0), 5)\n",
    "model6 = pyramid(0, 5, 15, (70, 5, 0), 6)\n",
    "\n",
    "model_result = model1 | model2 | model3 | model4 | model5 | model6"
   ]
  },
  {
   "cell_type": "markdown",
   "metadata": {},
   "source": [
    "Create plot from VoxelModel"
   ]
  },
  {
   "cell_type": "code",
   "execution_count": 3,
   "metadata": {
    "pycharm": {
     "name": "#%%\n"
    }
   },
   "outputs": [
    {
     "data": {
      "application/vnd.jupyter.widget-view+json": {
       "model_id": "96fef5fea7c74f7896f7e0fffa3d9b42",
       "version_major": 2,
       "version_minor": 0
      },
      "text/plain": [
       "Output()"
      ]
     },
     "metadata": {},
     "output_type": "display_data"
    },
    {
     "name": "stdout",
     "output_type": "stream",
     "text": [
      "Time to generate plot: 0.4790029525756836 sec\n"
     ]
    }
   ],
   "source": [
    "# Save start time\n",
    "t1 = time.time()\n",
    "\n",
    "plotVM = model_result.plot()\n",
    "plotVM.display()\n",
    "\n",
    "# Get elapsed time\n",
    "t2 = time.time()\n",
    "timeVM = t2 - t1\n",
    "print('Time to generate plot: ' + str(timeVM) + ' sec')"
   ]
  },
  {
   "cell_type": "markdown",
   "metadata": {},
   "source": [
    "Create plot from Mesh"
   ]
  },
  {
   "cell_type": "code",
   "execution_count": 4,
   "metadata": {
    "pycharm": {
     "name": "#%%\n"
    }
   },
   "outputs": [
    {
     "name": "stderr",
     "output_type": "stream",
     "text": [
      "Finding exterior voxels: 100%|████████████████████████████████████████████████████████████████████████████████████████████████████████████████████████████████████████████████████████████████████████████████████████████████████████| 76/76 [00:00<00:00, 2171.51it/s]\n",
      "Meshing: 100%|████████████████████████████████████████████████████████████████████████████████████████████████████████████████████████████████████████████████████████████████████████████████████████████████████████████████████| 2831/2831 [00:02<00:00, 1062.69it/s]\n"
     ]
    },
    {
     "data": {
      "application/vnd.jupyter.widget-view+json": {
       "model_id": "d440df50b2d0405c8852e2aecb099d93",
       "version_major": 2,
       "version_minor": 0
      },
      "text/plain": [
       "Output()"
      ]
     },
     "metadata": {},
     "output_type": "display_data"
    },
    {
     "data": {
      "application/vnd.jupyter.widget-view+json": {
       "model_id": "68e215785c0a40a39d2ff60686f31b3f",
       "version_major": 2,
       "version_minor": 0
      },
      "text/plain": [
       "Output()"
      ]
     },
     "metadata": {},
     "output_type": "display_data"
    },
    {
     "name": "stdout",
     "output_type": "stream",
     "text": [
      "Time to generate plots: 2.8030002117156982 sec\n"
     ]
    }
   ],
   "source": [
    "# Save start time\n",
    "t1 = time.time()\n",
    "\n",
    "# Create mesh data\n",
    "mesh = Mesh.fromVoxelModel(model_result)\n",
    "\n",
    "plotM1 = mesh.plot()\n",
    "plotM1.display()\n",
    "\n",
    "plotM2 = k3d.plot()\n",
    "model_result.plot(plotM2, outlines=False)\n",
    "mesh.plot(plotM2)\n",
    "plotM2.display()\n",
    "\n",
    "# Get elapsed time\n",
    "t2 = time.time()\n",
    "timeM = t2 - t1\n",
    "print('Time to generate plots: ' + str(timeM) + ' sec')"
   ]
  },
  {
   "cell_type": "markdown",
   "metadata": {},
   "source": [
    "Create plot from marching cubes mesh"
   ]
  },
  {
   "cell_type": "code",
   "execution_count": 5,
   "metadata": {},
   "outputs": [
    {
     "data": {
      "application/vnd.jupyter.widget-view+json": {
       "model_id": "ad3ed3eb58f94d3898cbdf1170b25593",
       "version_major": 2,
       "version_minor": 0
      },
      "text/plain": [
       "Output()"
      ]
     },
     "metadata": {},
     "output_type": "display_data"
    },
    {
     "data": {
      "application/vnd.jupyter.widget-view+json": {
       "model_id": "d94e86842f28483aa39b617ba787a079",
       "version_major": 2,
       "version_minor": 0
      },
      "text/plain": [
       "Output()"
      ]
     },
     "metadata": {},
     "output_type": "display_data"
    },
    {
     "name": "stdout",
     "output_type": "stream",
     "text": [
      "Time to generate plots: 0.08600068092346191 sec\n"
     ]
    }
   ],
   "source": [
    "# Save start time\n",
    "t1 = time.time()\n",
    "\n",
    "# Create mesh data\n",
    "mesh = Mesh.marchingCubes(model_result)\n",
    "\n",
    "plotMC1 = mesh.plot()\n",
    "plotMC1.display()\n",
    "\n",
    "plotMC2 = k3d.plot()\n",
    "model_result.plot(plotMC2, outlines=False)\n",
    "mesh.plot(plotMC2)\n",
    "plotMC2.display()\n",
    "\n",
    "# Get elapsed time\n",
    "t2 = time.time()\n",
    "timeMC = t2 - t1\n",
    "print('Time to generate plots: ' + str(timeMC) + ' sec')"
   ]
  },
  {
   "cell_type": "markdown",
   "metadata": {},
   "source": [
    "Display different plot approaches side-by-side"
   ]
  },
  {
   "cell_type": "code",
   "execution_count": 6,
   "metadata": {
    "pycharm": {
     "name": "#%%\n"
    }
   },
   "outputs": [
    {
     "name": "stderr",
     "output_type": "stream",
     "text": [
      "Finding exterior voxels: 100%|████████████████████████████████████████████████████████████████████████████████████████████████████████████████████████████████████████████████████████████████████████████████████████████████████████| 76/76 [00:00<00:00, 2054.08it/s]\n",
      "Meshing: 100%|███████████████████████████████████████████████████████████████████████████████████████████████████████████████████████████████████████████████████████████████████████████████████████████████████████████████████| 2831/2831 [00:00<00:00, 32919.17it/s]\n"
     ]
    },
    {
     "data": {
      "application/vnd.jupyter.widget-view+json": {
       "model_id": "b398c4921b91489ca21d0917c2550b79",
       "version_major": 2,
       "version_minor": 0
      },
      "text/plain": [
       "Output()"
      ]
     },
     "metadata": {},
     "output_type": "display_data"
    },
    {
     "data": {
      "application/vnd.jupyter.widget-view+json": {
       "model_id": "6b110166980f4fe08f70ed1ae5ab0d49",
       "version_major": 2,
       "version_minor": 0
      },
      "text/plain": [
       "Output()"
      ]
     },
     "metadata": {},
     "output_type": "display_data"
    },
    {
     "name": "stdout",
     "output_type": "stream",
     "text": [
      "Time to generate plots: 2.1049997806549072 sec\n"
     ]
    }
   ],
   "source": [
    "# Save start time\n",
    "t1 = time.time()\n",
    "\n",
    "mesh1 = Mesh.fromVoxelModel(model_result)\n",
    "mesh2 = Mesh.marchingCubes(model_result)\n",
    "\n",
    "plotSolid = k3d.plot()\n",
    "model_result.translate((0, 0, 80)).plot(plotSolid, name='voxels', outlines=False)\n",
    "mesh1.translate((0,0,60)).plot(plotSolid, name='mesh', wireframe=False)\n",
    "mesh1.simplify(0.2).translate((0,0,40)).plot(plotSolid, name='mesh simplified', wireframe=False)\n",
    "mesh2.translate((0,0,20)).plot(plotSolid, name='marching cubes', wireframe=False)\n",
    "mesh2.simplify(0.2).translate((0,0,0)).plot(plotSolid, name='marching cubes simplified', wireframe=False)\n",
    "plotSolid.display()\n",
    "\n",
    "plotWire = k3d.plot()\n",
    "model_result.translate((0, 0, 80)).plot(plotWire, name='voxels', wireframe=True)\n",
    "mesh1.translate((0,0,60)).plot(plotWire, name='mesh')\n",
    "mesh1.simplify(0.2).translate((0,0,40)).plot(plotWire, name='mesh simplified')\n",
    "mesh2.translate((0,0,20)).plot(plotWire, name='marching cubes')\n",
    "mesh2.simplify(0.2).translate((0,0,0)).plot(plotWire, name='marching cubes simplified')\n",
    "plotWire.display()\n",
    "\n",
    "# Get elapsed time\n",
    "t2 = time.time()\n",
    "timeCombo = t2 - t1\n",
    "print('Time to generate plots: ' + str(timeCombo) + ' sec')"
   ]
  },
  {
   "cell_type": "code",
   "execution_count": null,
   "metadata": {},
   "outputs": [],
   "source": []
  }
 ],
 "metadata": {
  "kernelspec": {
   "display_name": "Python 3",
   "language": "python",
   "name": "python3"
  },
  "language_info": {
   "codemirror_mode": {
    "name": "ipython",
    "version": 3
   },
   "file_extension": ".py",
   "mimetype": "text/x-python",
   "name": "python",
   "nbconvert_exporter": "python",
   "pygments_lexer": "ipython3",
   "version": "3.9.5"
  }
 },
 "nbformat": 4,
 "nbformat_minor": 1
}
