{
 "cells": [
  {
   "cell_type": "markdown",
   "metadata": {
    "pycharm": {
     "name": "#%% md\n"
    }
   },
   "source": [
    "Generate a series of primitive solids.\n",
    "\n",
    "Copyright 2021 - Cole Brauer, Dan Aukes\n",
    "\n",
    "---\n",
    "\n",
    "Import libraries"
   ]
  },
  {
   "cell_type": "code",
   "execution_count": 1,
   "metadata": {},
   "outputs": [],
   "source": [
    "import time\n",
    "import k3d\n",
    "from voxelfuse.voxel_model import VoxelModel\n",
    "from voxelfuse.mesh import Mesh\n",
    "from voxelfuse.primitives import *"
   ]
  },
  {
   "cell_type": "markdown",
   "metadata": {},
   "source": [
    "Generate models"
   ]
  },
  {
   "cell_type": "code",
   "execution_count": 2,
   "metadata": {
    "pycharm": {
     "name": "#%%\n"
    }
   },
   "outputs": [],
   "source": [
    "model1 = cube(11, (0, 0, 0), 1)\n",
    "model2 = cuboid((11, 20, 6), (13, 0, 0), 2)\n",
    "model3 = sphere(5, (31, 5, 5), 3)\n",
    "model4 = cylinder(5, 15, (44, 5, 0), 4)\n",
    "model5 = cone(1, 5, 15, (57, 5, 0), 5)\n",
    "model6 = pyramid(0, 5, 15, (70, 5, 0), 6)\n",
    "\n",
    "model_result = model1 | model2 | model3 | model4 | model5 | model6"
   ]
  },
  {
   "cell_type": "markdown",
   "metadata": {},
   "source": [
    "Create plot"
   ]
  },
  {
   "cell_type": "code",
   "execution_count": 3,
   "metadata": {
    "pycharm": {
     "name": "#%%\n"
    }
   },
   "outputs": [],
   "source": [
    "def rgb_to_hex(r, g, b):\n",
    "    r = round(r * 255)\n",
    "    g = round(g * 255)\n",
    "    b = round(b * 255)\n",
    "    hex_str = '0x{:02x}{:02x}{:02x}'.format(r, g, b)\n",
    "    return int(hex_str, base=16)"
   ]
  },
  {
   "cell_type": "code",
   "execution_count": 4,
   "metadata": {
    "pycharm": {
     "name": "#%%\n"
    }
   },
   "outputs": [
    {
     "data": {
      "application/vnd.jupyter.widget-view+json": {
       "model_id": "74d9d8a1f6744fc7a13a654c66de50ae",
       "version_major": 2,
       "version_minor": 0
      },
      "text/plain": [
       "Output()"
      ]
     },
     "metadata": {},
     "output_type": "display_data"
    },
    {
     "name": "stdout",
     "output_type": "stream",
     "text": [
      "Time to generate plot: 0.01699972152709961 sec\n"
     ]
    }
   ],
   "source": [
    "# Save start time\n",
    "t1 = time.time()\n",
    "\n",
    "plot1 = k3d.plot(background_color=0xEEEEEE, grid_visible=False)\n",
    "model_result.plot(plot1)\n",
    "plot1.display()\n",
    "\n",
    "# Get elapsed time\n",
    "t2 = time.time()\n",
    "time_k3d = t2 - t1\n",
    "print('Time to generate plot: ' + str(time_k3d) + ' sec')"
   ]
  },
  {
   "cell_type": "code",
   "execution_count": 5,
   "metadata": {
    "pycharm": {
     "name": "#%%\n"
    }
   },
   "outputs": [
    {
     "name": "stderr",
     "output_type": "stream",
     "text": [
      "Finding exterior voxels: 100%|██████████| 76/76 [00:00<00:00, 2054.06it/s]\n",
      "Meshing: 100%|██████████| 2831/2831 [00:02<00:00, 1227.67it/s]\n"
     ]
    },
    {
     "data": {
      "application/vnd.jupyter.widget-view+json": {
       "model_id": "2b60fdd51a20474782636f66b235cb34",
       "version_major": 2,
       "version_minor": 0
      },
      "text/plain": [
       "Output()"
      ]
     },
     "metadata": {},
     "output_type": "display_data"
    },
    {
     "name": "stdout",
     "output_type": "stream",
     "text": [
      "Time to generate plot: 2.459003448486328 sec\n"
     ]
    }
   ],
   "source": [
    "# Save start time\n",
    "t1 = time.time()\n",
    "\n",
    "# Create mesh data\n",
    "mesh = Mesh.fromVoxelModel(model_result)\n",
    "\n",
    "plot2 = mesh.plot()\n",
    "plot2.display()\n",
    "\n",
    "# Get elapsed time\n",
    "t2 = time.time()\n",
    "time_k3d = t2 - t1\n",
    "print('Time to generate plot: ' + str(time_k3d) + ' sec')"
   ]
  },
  {
   "cell_type": "code",
   "execution_count": 6,
   "metadata": {
    "pycharm": {
     "name": "#%%\n"
    }
   },
   "outputs": [
    {
     "name": "stderr",
     "output_type": "stream",
     "text": [
      "Finding exterior voxels: 100%|██████████| 76/76 [00:00<00:00, 2171.35it/s]\n",
      "Meshing: 100%|██████████| 2831/2831 [00:00<00:00, 15139.30it/s]\n"
     ]
    },
    {
     "data": {
      "application/vnd.jupyter.widget-view+json": {
       "model_id": "c1f58806e313462c8e8073cb93df8bc2",
       "version_major": 2,
       "version_minor": 0
      },
      "text/plain": [
       "Output()"
      ]
     },
     "metadata": {},
     "output_type": "display_data"
    },
    {
     "name": "stdout",
     "output_type": "stream",
     "text": [
      "Time to generate plot: 0.33899950981140137 sec\n"
     ]
    }
   ],
   "source": [
    "# Save start time\n",
    "t1 = time.time()\n",
    "\n",
    "model_result_1 = model_result.translate((0, 0, 10))\n",
    "model_result_2 = model_result.translate((0, 0, 30))\n",
    "mesh2 = Mesh.fromVoxelModel(model_result_2)\n",
    "\n",
    "plot3 = model_result_1.plot(name='transformed model', outlines_color=0xffffff)\n",
    "plot3 = mesh2.plot(plot3, name='transformed mesh')\n",
    "plot3.display()\n",
    "\n",
    "# Get elapsed time\n",
    "t2 = time.time()\n",
    "time_k3d = t2 - t1\n",
    "print('Time to generate plot: ' + str(time_k3d) + ' sec')"
   ]
  }
 ],
 "metadata": {
  "kernelspec": {
   "display_name": "Python 3",
   "language": "python",
   "name": "python3"
  },
  "language_info": {
   "codemirror_mode": {
    "name": "ipython",
    "version": 3
   },
   "file_extension": ".py",
   "mimetype": "text/x-python",
   "name": "python",
   "nbconvert_exporter": "python",
   "pygments_lexer": "ipython3",
   "version": "3.9.5"
  }
 },
 "nbformat": 4,
 "nbformat_minor": 1
}
