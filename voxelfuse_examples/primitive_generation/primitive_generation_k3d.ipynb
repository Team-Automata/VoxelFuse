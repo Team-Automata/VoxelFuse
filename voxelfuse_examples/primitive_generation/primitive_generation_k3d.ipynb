{
 "cells": [
  {
   "cell_type": "markdown",
   "metadata": {
    "pycharm": {
     "name": "#%% md\n"
    }
   },
   "source": [
    "Generate a series of primitive solids.\n",
    "\n",
    "Copyright 2021 - Cole Brauer, Dan Aukes\n",
    "\n",
    "---\n",
    "\n",
    "Import libraries"
   ]
  },
  {
   "cell_type": "code",
   "execution_count": 1,
   "metadata": {},
   "outputs": [],
   "source": [
    "import time\n",
    "import k3d\n",
    "from voxelfuse.voxel_model import VoxelModel\n",
    "from voxelfuse.mesh import Mesh\n",
    "from voxelfuse.primitives import *"
   ]
  },
  {
   "cell_type": "markdown",
   "metadata": {},
   "source": [
    "Generate models"
   ]
  },
  {
   "cell_type": "code",
   "execution_count": 2,
   "metadata": {
    "pycharm": {
     "name": "#%%\n"
    }
   },
   "outputs": [],
   "source": [
    "model1 = cube(11, (0, 0, 0), 1)\n",
    "model2 = cuboid((11, 20, 6), (13, 0, 0), 2)\n",
    "model3 = sphere(5, (31, 5, 5), 3)\n",
    "model4 = cylinder(5, 15, (44, 5, 0), 4)\n",
    "model5 = cone(1, 5, 15, (57, 5, 0), 5)\n",
    "model6 = pyramid(0, 5, 15, (70, 5, 0), 6)\n",
    "\n",
    "model_result = model1 | model2 | model3 | model4 | model5 | model6"
   ]
  },
  {
   "cell_type": "markdown",
   "metadata": {},
   "source": [
    "Create plot from VoxelModel"
   ]
  },
  {
   "cell_type": "code",
   "execution_count": 3,
   "metadata": {
    "pycharm": {
     "name": "#%%\n"
    }
   },
   "outputs": [
    {
     "data": {
      "application/vnd.jupyter.widget-view+json": {
       "model_id": "745c1d30af06423ba3853548aef45c5a",
       "version_major": 2,
       "version_minor": 0
      },
      "text/plain": [
       "Output()"
      ]
     },
     "metadata": {},
     "output_type": "display_data"
    },
    {
     "name": "stdout",
     "output_type": "stream",
     "text": [
      "Time to generate plot: 0.44500088691711426 sec\n"
     ]
    }
   ],
   "source": [
    "# Save start time\n",
    "t1 = time.time()\n",
    "\n",
    "plotVM = model_result.plot()\n",
    "plotVM.display()\n",
    "\n",
    "# Get elapsed time\n",
    "t2 = time.time()\n",
    "timeVM = t2 - t1\n",
    "print('Time to generate plot: ' + str(timeVM) + ' sec')"
   ]
  },
  {
   "cell_type": "markdown",
   "metadata": {},
   "source": [
    "Create plot from Mesh"
   ]
  },
  {
   "cell_type": "code",
   "execution_count": 4,
   "metadata": {
    "pycharm": {
     "name": "#%%\n"
    }
   },
   "outputs": [
    {
     "name": "stderr",
     "output_type": "stream",
     "text": [
      "Finding exterior voxels: 100%|████████████████████████████████████████████████████████████████████████████████████████████████████████████████████████████████████████████████████████████████████████████████████████████████████████| 76/76 [00:00<00:00, 2054.23it/s]\n",
      "Meshing: 100%|████████████████████████████████████████████████████████████████████████████████████████████████████████████████████████████████████████████████████████████████████████████████████████████████████████████████████| 2831/2831 [00:02<00:00, 1055.56it/s]\n"
     ]
    },
    {
     "data": {
      "application/vnd.jupyter.widget-view+json": {
       "model_id": "75353bb3ebc14f5fb456f92c4aada1ba",
       "version_major": 2,
       "version_minor": 0
      },
      "text/plain": [
       "Output()"
      ]
     },
     "metadata": {},
     "output_type": "display_data"
    },
    {
     "data": {
      "application/vnd.jupyter.widget-view+json": {
       "model_id": "8d8cd3ebdeba4b8abfedaa8964e1b339",
       "version_major": 2,
       "version_minor": 0
      },
      "text/plain": [
       "Output()"
      ]
     },
     "metadata": {},
     "output_type": "display_data"
    },
    {
     "name": "stdout",
     "output_type": "stream",
     "text": [
      "Time to generate plots: 2.817002058029175 sec\n"
     ]
    }
   ],
   "source": [
    "# Save start time\n",
    "t1 = time.time()\n",
    "\n",
    "# Create mesh data\n",
    "mesh = Mesh.fromVoxelModel(model_result)\n",
    "\n",
    "plotM1 = mesh.plot()\n",
    "plotM1.display()\n",
    "\n",
    "plotM2 = k3d.plot()\n",
    "model_result.plot(plotM2, outlines=False)\n",
    "mesh.plot(plotM2)\n",
    "plotM2.display()\n",
    "\n",
    "# Get elapsed time\n",
    "t2 = time.time()\n",
    "timeM = t2 - t1\n",
    "print('Time to generate plots: ' + str(timeM) + ' sec')"
   ]
  },
  {
   "cell_type": "markdown",
   "metadata": {},
   "source": [
    "Create plot from marching cubes mesh"
   ]
  },
  {
   "cell_type": "code",
   "execution_count": 5,
   "metadata": {},
   "outputs": [
    {
     "data": {
      "application/vnd.jupyter.widget-view+json": {
       "model_id": "72a9e8001ea54a89979d5b406e8e5daa",
       "version_major": 2,
       "version_minor": 0
      },
      "text/plain": [
       "Output()"
      ]
     },
     "metadata": {},
     "output_type": "display_data"
    },
    {
     "data": {
      "application/vnd.jupyter.widget-view+json": {
       "model_id": "7fd16b76a8f247e58cd7b1e0d4d86f28",
       "version_major": 2,
       "version_minor": 0
      },
      "text/plain": [
       "Output()"
      ]
     },
     "metadata": {},
     "output_type": "display_data"
    },
    {
     "name": "stdout",
     "output_type": "stream",
     "text": [
      "Time to generate plots: 0.08800196647644043 sec\n"
     ]
    }
   ],
   "source": [
    "# Save start time\n",
    "t1 = time.time()\n",
    "\n",
    "# Create mesh data\n",
    "mesh = Mesh.marchingCubes(model_result)\n",
    "\n",
    "plotMC1 = mesh.plot()\n",
    "plotMC1.display()\n",
    "\n",
    "plotMC2 = k3d.plot()\n",
    "model_result.plot(plotMC2, outlines=False)\n",
    "mesh.plot(plotMC2)\n",
    "plotMC2.display()\n",
    "\n",
    "# Get elapsed time\n",
    "t2 = time.time()\n",
    "timeMC = t2 - t1\n",
    "print('Time to generate plots: ' + str(timeMC) + ' sec')"
   ]
  },
  {
   "cell_type": "markdown",
   "metadata": {},
   "source": [
    "Display different plot approaches side-by-side"
   ]
  },
  {
   "cell_type": "code",
   "execution_count": 6,
   "metadata": {
    "pycharm": {
     "name": "#%%\n"
    }
   },
   "outputs": [
    {
     "name": "stderr",
     "output_type": "stream",
     "text": [
      "Finding exterior voxels: 100%|████████████████████████████████████████████████████████████████████████████████████████████████████████████████████████████████████████████████████████████████████████████████████████████████████████| 76/76 [00:00<00:00, 2054.06it/s]\n",
      "Meshing: 100%|███████████████████████████████████████████████████████████████████████████████████████████████████████████████████████████████████████████████████████████████████████████████████████████████████████████████████| 2831/2831 [00:00<00:00, 32540.54it/s]\n"
     ]
    },
    {
     "data": {
      "application/vnd.jupyter.widget-view+json": {
       "model_id": "c4f314bb3d4c489aa294a3fb2d1e2eb3",
       "version_major": 2,
       "version_minor": 0
      },
      "text/plain": [
       "Output()"
      ]
     },
     "metadata": {},
     "output_type": "display_data"
    },
    {
     "data": {
      "application/vnd.jupyter.widget-view+json": {
       "model_id": "0d34ac4f115c41d385641ad4afce1030",
       "version_major": 2,
       "version_minor": 0
      },
      "text/plain": [
       "Output()"
      ]
     },
     "metadata": {},
     "output_type": "display_data"
    },
    {
     "name": "stdout",
     "output_type": "stream",
     "text": [
      "Time to generate plots: 0.2949984073638916 sec\n"
     ]
    }
   ],
   "source": [
    "# Save start time\n",
    "t1 = time.time()\n",
    "\n",
    "model_result_1 = model_result.translate((0, 0, 40))\n",
    "model_result_2 = model_result.translate((0, 0, 20))\n",
    "model_result_3 = model_result.translate((0, 0, 0))\n",
    "\n",
    "mesh2 = Mesh.fromVoxelModel(model_result_2)\n",
    "mesh3 = Mesh.marchingCubes(model_result_3)\n",
    "\n",
    "plotSolid = k3d.plot()\n",
    "model_result_1.plot(plotSolid, name='voxels', outlines=False)\n",
    "mesh2.plot(plotSolid, name='mesh', wireframe=False)\n",
    "mesh3.plot(plotSolid, name='marching cubes', wireframe=False)\n",
    "plotSolid.display()\n",
    "\n",
    "plotWire = k3d.plot()\n",
    "model_result_1.plot(plotWire, name='model', wireframe=True)\n",
    "mesh2.plot(plotWire, name='mesh')\n",
    "mesh3.plot(plotWire, name='marching cubes')\n",
    "plotWire.display()\n",
    "\n",
    "# Get elapsed time\n",
    "t2 = time.time()\n",
    "timeCombo = t2 - t1\n",
    "print('Time to generate plots: ' + str(timeCombo) + ' sec')"
   ]
  },
  {
   "cell_type": "code",
   "execution_count": null,
   "metadata": {},
   "outputs": [],
   "source": []
  }
 ],
 "metadata": {
  "kernelspec": {
   "display_name": "Python 3",
   "language": "python",
   "name": "python3"
  },
  "language_info": {
   "codemirror_mode": {
    "name": "ipython",
    "version": 3
   },
   "file_extension": ".py",
   "mimetype": "text/x-python",
   "name": "python",
   "nbconvert_exporter": "python",
   "pygments_lexer": "ipython3",
   "version": "3.9.5"
  }
 },
 "nbformat": 4,
 "nbformat_minor": 1
}
