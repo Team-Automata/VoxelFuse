{
 "cells": [
  {
   "cell_type": "markdown",
   "metadata": {
    "pycharm": {
     "name": "#%% md\n"
    }
   },
   "source": [
    "Generate a series of primitive solids.\n",
    "\n",
    "Copyright 2021 - Cole Brauer, Dan Aukes\n",
    "\n",
    "---\n",
    "\n",
    "Import libraries"
   ]
  },
  {
   "cell_type": "code",
   "execution_count": 1,
   "metadata": {},
   "outputs": [],
   "source": [
    "import time\n",
    "import k3d\n",
    "import voxelfuse as vf"
   ]
  },
  {
   "cell_type": "markdown",
   "metadata": {},
   "source": [
    "Generate models"
   ]
  },
  {
   "cell_type": "code",
   "execution_count": 2,
   "metadata": {
    "pycharm": {
     "name": "#%%\n"
    }
   },
   "outputs": [],
   "source": [
    "model1 = vf.cube(11, (0, 0, 0), 1)\n",
    "model2 = vf.cuboid((11, 20, 6), (13, 0, 0), 2)\n",
    "model3 = vf.sphere(5, (31, 5, 5), 3)\n",
    "model4 = vf.cylinder(5, 15, (44, 5, 0), 4)\n",
    "model5 = vf.cone(1, 5, 15, (57, 5, 0), 5)\n",
    "model6 = vf.pyramid(0, 5, 15, (70, 5, 0), 6)\n",
    "\n",
    "model_result = model1 | model2 | model3 | model4 | model5 | model6"
   ]
  },
  {
   "cell_type": "markdown",
   "metadata": {},
   "source": [
    "Create plot from VoxelModel"
   ]
  },
  {
   "cell_type": "code",
   "execution_count": 3,
   "metadata": {
    "pycharm": {
     "name": "#%%\n"
    }
   },
   "outputs": [
    {
     "data": {
      "application/vnd.jupyter.widget-view+json": {
       "model_id": "5e7d5eab153c47e58d452acac82abecb",
       "version_major": 2,
       "version_minor": 0
      },
      "text/plain": [
       "Output()"
      ]
     },
     "metadata": {},
     "output_type": "display_data"
    },
    {
     "name": "stdout",
     "output_type": "stream",
     "text": [
      "Time to generate plot: 0.3430004119873047 sec\n"
     ]
    }
   ],
   "source": [
    "# Save start time\n",
    "t1 = time.time()\n",
    "\n",
    "plotVM = model_result.plot()\n",
    "plotVM.display()\n",
    "\n",
    "# Get elapsed time\n",
    "t2 = time.time()\n",
    "timeVM = t2 - t1\n",
    "print('Time to generate plot: ' + str(timeVM) + ' sec')"
   ]
  },
  {
   "cell_type": "markdown",
   "metadata": {},
   "source": [
    "Create plot from Mesh"
   ]
  },
  {
   "cell_type": "code",
   "execution_count": 4,
   "metadata": {
    "pycharm": {
     "name": "#%%\n"
    }
   },
   "outputs": [
    {
     "name": "stderr",
     "output_type": "stream",
     "text": [
      "Finding exterior voxels: 100%|████████████████████████████████████████████████████████████████████████████████████████████████████████████████████████████████████████████████████████████████████████████████████████████████████████| 76/76 [00:00<00:00, 2111.15it/s]\n",
      "Meshing: 100%|█████████████████████████████████████████████████████████████████████████████████████████████████████████████████████████████████████████████████████████████████████████████████████████████████████████████████████| 2831/2831 [00:04<00:00, 591.71it/s]\n"
     ]
    },
    {
     "data": {
      "application/vnd.jupyter.widget-view+json": {
       "model_id": "de46c8e34b9e4aff8c7e71a4e1df18e2",
       "version_major": 2,
       "version_minor": 0
      },
      "text/plain": [
       "Output()"
      ]
     },
     "metadata": {},
     "output_type": "display_data"
    },
    {
     "data": {
      "application/vnd.jupyter.widget-view+json": {
       "model_id": "cedb8d0c411e451ead57fa49350254b2",
       "version_major": 2,
       "version_minor": 0
      },
      "text/plain": [
       "Output()"
      ]
     },
     "metadata": {},
     "output_type": "display_data"
    },
    {
     "name": "stdout",
     "output_type": "stream",
     "text": [
      "Time to generate plots: 4.968474626541138 sec\n"
     ]
    }
   ],
   "source": [
    "# Save start time\n",
    "t1 = time.time()\n",
    "\n",
    "# Create mesh data\n",
    "mesh = vf.Mesh.fromVoxelModel(model_result)\n",
    "\n",
    "plotM1 = mesh.plot()\n",
    "plotM1.display()\n",
    "\n",
    "plotM2 = k3d.plot()\n",
    "model_result.plot(plotM2, outlines=False)\n",
    "mesh.plot(plotM2)\n",
    "plotM2.display()\n",
    "\n",
    "# Get elapsed time\n",
    "t2 = time.time()\n",
    "timeM = t2 - t1\n",
    "print('Time to generate plots: ' + str(timeM) + ' sec')"
   ]
  },
  {
   "cell_type": "markdown",
   "metadata": {},
   "source": [
    "Create plot using simpleSquares mesh"
   ]
  },
  {
   "cell_type": "code",
   "execution_count": 5,
   "metadata": {},
   "outputs": [
    {
     "name": "stderr",
     "output_type": "stream",
     "text": [
      "Finding voxel vertices: 100%|██████████████████████████████████████████████████████████████████████████████████████████████████████████████████████████████████████████████████████████████████████████████████████████████████████████| 76/76 [00:00<00:00, 104.00it/s]\n",
      "Finding interior vertices: 100%|███████████████████████████████████████████████████████████████████████████████████████████████████████████████████████████████████████████████████████████████████████████████████████████████████████| 75/75 [00:00<00:00, 688.10it/s]\n",
      "Finding feature vertices: 100%|████████████████████████████████████████████████████████████████████████████████████████████████████████████████████████████████████████████████████████████████████████████████████████████████████████| 77/77 [00:00<00:00, 156.50it/s]\n",
      "Meshing: 100%|█████████████████████████████████████████████████████████████████████████████████████████████████████████████████████████████████████████████████████████████████████████████████████████████████████████████████████████| 77/77 [00:00<00:00, 186.89it/s]\n"
     ]
    },
    {
     "data": {
      "application/vnd.jupyter.widget-view+json": {
       "model_id": "99ea885cea114a65a8cc88b0fd15fda6",
       "version_major": 2,
       "version_minor": 0
      },
      "text/plain": [
       "Output()"
      ]
     },
     "metadata": {},
     "output_type": "display_data"
    },
    {
     "data": {
      "application/vnd.jupyter.widget-view+json": {
       "model_id": "a7e25e3d680d4c458cbb56582e28dde5",
       "version_major": 2,
       "version_minor": 0
      },
      "text/plain": [
       "Output()"
      ]
     },
     "metadata": {},
     "output_type": "display_data"
    },
    {
     "name": "stdout",
     "output_type": "stream",
     "text": [
      "Time to generate plots: 1.8419990539550781 sec\n"
     ]
    }
   ],
   "source": [
    "# Save start time\n",
    "t1 = time.time()\n",
    "\n",
    "# Create mesh data\n",
    "mesh = vf.Mesh.simpleSquares(model_result)\n",
    "\n",
    "plotSS1 = mesh.plot()\n",
    "plotSS1.display()\n",
    "\n",
    "plotSS2 = k3d.plot()\n",
    "model_result.plot(plotSS2, outlines=False)\n",
    "mesh.plot(plotSS2)\n",
    "plotSS2.display()\n",
    "\n",
    "# Get elapsed time\n",
    "t2 = time.time()\n",
    "timeSS = t2 - t1\n",
    "print('Time to generate plots: ' + str(timeSS) + ' sec')"
   ]
  },
  {
   "cell_type": "markdown",
   "metadata": {},
   "source": [
    "Create plot from marching cubes mesh"
   ]
  },
  {
   "cell_type": "code",
   "execution_count": 6,
   "metadata": {},
   "outputs": [
    {
     "data": {
      "application/vnd.jupyter.widget-view+json": {
       "model_id": "a24721cf7c424d7eaaa1d8bdad4d73a5",
       "version_major": 2,
       "version_minor": 0
      },
      "text/plain": [
       "Output()"
      ]
     },
     "metadata": {},
     "output_type": "display_data"
    },
    {
     "data": {
      "application/vnd.jupyter.widget-view+json": {
       "model_id": "d1a4434c21d34c21aa90463e2d6891bd",
       "version_major": 2,
       "version_minor": 0
      },
      "text/plain": [
       "Output()"
      ]
     },
     "metadata": {},
     "output_type": "display_data"
    },
    {
     "name": "stdout",
     "output_type": "stream",
     "text": [
      "Time to generate plots: 0.08900094032287598 sec\n"
     ]
    }
   ],
   "source": [
    "# Save start time\n",
    "t1 = time.time()\n",
    "\n",
    "# Create mesh data\n",
    "mesh = vf.Mesh.marchingCubes(model_result)\n",
    "\n",
    "plotMC1 = mesh.plot()\n",
    "plotMC1.display()\n",
    "\n",
    "plotMC2 = k3d.plot()\n",
    "model_result.plot(plotMC2, outlines=False)\n",
    "mesh.plot(plotMC2)\n",
    "plotMC2.display()\n",
    "\n",
    "# Get elapsed time\n",
    "t2 = time.time()\n",
    "timeMC = t2 - t1\n",
    "print('Time to generate plots: ' + str(timeMC) + ' sec')"
   ]
  },
  {
   "cell_type": "markdown",
   "metadata": {},
   "source": [
    "Display different plot approaches side-by-side"
   ]
  },
  {
   "cell_type": "code",
   "execution_count": 7,
   "metadata": {
    "pycharm": {
     "name": "#%%\n"
    }
   },
   "outputs": [
    {
     "name": "stderr",
     "output_type": "stream",
     "text": [
      "Finding exterior voxels: 100%|████████████████████████████████████████████████████████████████████████████████████████████████████████████████████████████████████████████████████████████████████████████████████████████████████████| 76/76 [00:00<00:00, 2054.06it/s]\n",
      "Meshing: 100%|████████████████████████████████████████████████████████████████████████████████████████████████████████████████████████████████████████████████████████████████████████████████████████████████████████████████████| 2831/2831 [00:00<00:00, 8042.65it/s]\n",
      "Finding voxel vertices: 100%|██████████████████████████████████████████████████████████████████████████████████████████████████████████████████████████████████████████████████████████████████████████████████████████████████████████| 76/76 [00:00<00:00, 102.98it/s]\n",
      "Finding interior vertices: 100%|███████████████████████████████████████████████████████████████████████████████████████████████████████████████████████████████████████████████████████████████████████████████████████████████████████| 75/75 [00:00<00:00, 694.45it/s]\n",
      "Finding feature vertices: 100%|███████████████████████████████████████████████████████████████████████████████████████████████████████████████████████████████████████████████████████████████████████████████████████████████████████| 77/77 [00:00<00:00, 4812.28it/s]\n",
      "Meshing: 100%|█████████████████████████████████████████████████████████████████████████████████████████████████████████████████████████████████████████████████████████████████████████████████████████████████████████████████████████| 77/77 [00:00<00:00, 185.54it/s]\n"
     ]
    },
    {
     "data": {
      "application/vnd.jupyter.widget-view+json": {
       "model_id": "a0f49bb3d8c14ba388dda430bdf9b66c",
       "version_major": 2,
       "version_minor": 0
      },
      "text/plain": [
       "Output()"
      ]
     },
     "metadata": {},
     "output_type": "display_data"
    },
    {
     "data": {
      "application/vnd.jupyter.widget-view+json": {
       "model_id": "e1d6a71472994cfca635634a989100ac",
       "version_major": 2,
       "version_minor": 0
      },
      "text/plain": [
       "Output()"
      ]
     },
     "metadata": {},
     "output_type": "display_data"
    },
    {
     "name": "stdout",
     "output_type": "stream",
     "text": [
      "Time to generate plots: 3.741004228591919 sec\n"
     ]
    }
   ],
   "source": [
    "# Save start time\n",
    "t1 = time.time()\n",
    "\n",
    "mesh1 = vf.Mesh.fromVoxelModel(model_result)\n",
    "mesh2 = vf.Mesh.simpleSquares(model_result)\n",
    "mesh3 = vf.Mesh.marchingCubes(model_result)\n",
    "\n",
    "plotSolid = k3d.plot()\n",
    "# model_result.translate((0, 0, 100)).plot(plotSolid, name='voxels', outlines=False)\n",
    "mesh1.translate((0,0,80)).plot(plotSolid, name='mesh', wireframe=False)\n",
    "mesh1.simplify(0.2).translate((0,0,60)).plot(plotSolid, name='mesh simplified', wireframe=False)\n",
    "mesh2.translate((0,0,40)).plot(plotSolid, name='simple squares', wireframe=False)\n",
    "mesh3.translate((0,0,20)).plot(plotSolid, name='marching cubes', wireframe=False)\n",
    "mesh3.simplify(0.2).translate((0,0,0)).plot(plotSolid, name='marching cubes simplified', wireframe=False)\n",
    "plotSolid.display()\n",
    "\n",
    "plotWire = k3d.plot()\n",
    "# model_result.translate((0, 0, 100)).plot(plotWire, name='voxels', wireframe=True)\n",
    "mesh1.translate((0,0,80)).plot(plotWire, name='mesh')\n",
    "mesh1.simplify(0.2).translate((0,0,60)).plot(plotWire, name='mesh simplified')\n",
    "mesh2.translate((0,0,40)).plot(plotWire, name='simple squares')\n",
    "mesh3.translate((0,0,20)).plot(plotWire, name='marching cubes')\n",
    "mesh3.simplify(0.2).translate((0,0,0)).plot(plotWire, name='marching cubes simplified')\n",
    "plotWire.display()\n",
    "\n",
    "# Get elapsed time\n",
    "t2 = time.time()\n",
    "timeCombo = t2 - t1\n",
    "print('Time to generate plots: ' + str(timeCombo) + ' sec')"
   ]
  },
  {
   "cell_type": "code",
   "execution_count": null,
   "metadata": {},
   "outputs": [],
   "source": []
  }
 ],
 "metadata": {
  "kernelspec": {
   "display_name": "Python 3",
   "language": "python",
   "name": "python3"
  },
  "language_info": {
   "codemirror_mode": {
    "name": "ipython",
    "version": 3
   },
   "file_extension": ".py",
   "mimetype": "text/x-python",
   "name": "python",
   "nbconvert_exporter": "python",
   "pygments_lexer": "ipython3",
   "version": "3.9.5"
  }
 },
 "nbformat": 4,
 "nbformat_minor": 1
}
