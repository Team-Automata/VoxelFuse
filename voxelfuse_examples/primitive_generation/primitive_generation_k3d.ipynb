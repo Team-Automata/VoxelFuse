{
 "cells": [
  {
   "cell_type": "markdown",
   "metadata": {
    "pycharm": {
     "name": "#%% md\n"
    }
   },
   "source": [
    "Generate a series of primitive solids.\n",
    "\n",
    "Copyright 2021 - Cole Brauer, Dan Aukes\n",
    "\n",
    "---\n",
    "\n",
    "Import libraries"
   ]
  },
  {
   "cell_type": "code",
   "execution_count": 1,
   "metadata": {},
   "outputs": [],
   "source": [
    "import time\n",
    "import k3d\n",
    "from voxelfuse.voxel_model import VoxelModel\n",
    "from voxelfuse.mesh import Mesh\n",
    "from voxelfuse.primitives import *"
   ]
  },
  {
   "cell_type": "markdown",
   "metadata": {},
   "source": [
    "Generate models"
   ]
  },
  {
   "cell_type": "code",
   "execution_count": 2,
   "metadata": {
    "pycharm": {
     "name": "#%%\n"
    }
   },
   "outputs": [],
   "source": [
    "model1 = cube(11, (0, 0, 0), 1)\n",
    "model2 = cuboid((11, 20, 6), (13, 0, 0), 2)\n",
    "model3 = sphere(5, (31, 5, 5), 3)\n",
    "model4 = cylinder(5, 15, (44, 5, 0), 4)\n",
    "model5 = cone(1, 5, 15, (57, 5, 0), 5)\n",
    "model6 = pyramid(0, 5, 15, (70, 5, 0), 6)\n",
    "\n",
    "model_result = model1 | model2 | model3 | model4 | model5 | model6"
   ]
  },
  {
   "cell_type": "markdown",
   "metadata": {},
   "source": [
    "Create plot"
   ]
  },
  {
   "cell_type": "code",
   "execution_count": 3,
   "metadata": {
    "pycharm": {
     "name": "#%%\n"
    }
   },
   "outputs": [],
   "source": [
    "def rgb_to_hex(r, g, b):\n",
    "    r = round(r * 255)\n",
    "    g = round(g * 255)\n",
    "    b = round(b * 255)\n",
    "    hex_str = '0x{:02x}{:02x}{:02x}'.format(r, g, b)\n",
    "    return int(hex_str, base=16)"
   ]
  },
  {
   "cell_type": "code",
   "execution_count": 4,
   "metadata": {
    "pycharm": {
     "name": "#%%\n"
    }
   },
   "outputs": [
    {
     "data": {
      "application/vnd.jupyter.widget-view+json": {
       "model_id": "2d78e2d75e1946ddbf1cf4e1a078e51e",
       "version_major": 2,
       "version_minor": 0
      },
      "text/plain": [
       "Output()"
      ]
     },
     "metadata": {},
     "output_type": "display_data"
    },
    {
     "name": "stdout",
     "output_type": "stream",
     "text": [
      "Time to generate plot: 0.01800060272216797 sec\n"
     ]
    }
   ],
   "source": [
    "# Save start time\n",
    "t1 = time.time()\n",
    "\n",
    "plot1 = model_result.plot()\n",
    "plot1.display()\n",
    "\n",
    "# Get elapsed time\n",
    "t2 = time.time()\n",
    "time1 = t2 - t1\n",
    "print('Time to generate plot: ' + str(time1) + ' sec')"
   ]
  },
  {
   "cell_type": "code",
   "execution_count": 5,
   "metadata": {
    "pycharm": {
     "name": "#%%\n"
    }
   },
   "outputs": [
    {
     "name": "stderr",
     "output_type": "stream",
     "text": [
      "Finding exterior voxels: 100%|██████████| 76/76 [00:00<00:00, 2111.28it/s]\n",
      "Meshing: 100%|██████████| 2831/2831 [00:02<00:00, 1227.13it/s]\n"
     ]
    },
    {
     "data": {
      "application/vnd.jupyter.widget-view+json": {
       "model_id": "4a9a09b69c0544c39f04027836efdb9d",
       "version_major": 2,
       "version_minor": 0
      },
      "text/plain": [
       "Output()"
      ]
     },
     "metadata": {},
     "output_type": "display_data"
    },
    {
     "data": {
      "application/vnd.jupyter.widget-view+json": {
       "model_id": "ed317c2f32414b7b94c3f9573cf38031",
       "version_major": 2,
       "version_minor": 0
      },
      "text/plain": [
       "Output()"
      ]
     },
     "metadata": {},
     "output_type": "display_data"
    },
    {
     "name": "stdout",
     "output_type": "stream",
     "text": [
      "Time to generate plots: 2.5480010509490967 sec\n"
     ]
    }
   ],
   "source": [
    "# Save start time\n",
    "t1 = time.time()\n",
    "\n",
    "# Create mesh data\n",
    "mesh = Mesh.fromVoxelModel(model_result)\n",
    "\n",
    "plot2 = mesh.plot()\n",
    "plot2.display()\n",
    "\n",
    "plot3 = k3d.plot()\n",
    "model_result.plot(plot3, outlines=False)\n",
    "mesh.plot(plot3)\n",
    "plot3.display()\n",
    "\n",
    "# Get elapsed time\n",
    "t2 = time.time()\n",
    "time2 = t2 - t1\n",
    "print('Time to generate plots: ' + str(time2) + ' sec')"
   ]
  },
  {
   "cell_type": "code",
   "execution_count": 6,
   "metadata": {
    "pycharm": {
     "name": "#%%\n"
    }
   },
   "outputs": [
    {
     "name": "stderr",
     "output_type": "stream",
     "text": [
      "Finding exterior voxels: 100%|██████████| 76/76 [00:00<00:00, 1948.73it/s]\n",
      "Meshing: 100%|██████████| 2831/2831 [00:00<00:00, 15470.06it/s]\n"
     ]
    },
    {
     "data": {
      "application/vnd.jupyter.widget-view+json": {
       "model_id": "7bcd48aaf4ca4991b9ab9705e47d11f3",
       "version_major": 2,
       "version_minor": 0
      },
      "text/plain": [
       "Output()"
      ]
     },
     "metadata": {},
     "output_type": "display_data"
    },
    {
     "data": {
      "application/vnd.jupyter.widget-view+json": {
       "model_id": "c5ae521c22cd427d8aba10d442175ea9",
       "version_major": 2,
       "version_minor": 0
      },
      "text/plain": [
       "Output()"
      ]
     },
     "metadata": {},
     "output_type": "display_data"
    },
    {
     "name": "stdout",
     "output_type": "stream",
     "text": [
      "Time to generate plots: 0.43199825286865234 sec\n"
     ]
    }
   ],
   "source": [
    "# Save start time\n",
    "t1 = time.time()\n",
    "\n",
    "model_result_1 = model_result.translate((0, 0, 30))\n",
    "model_result_2 = model_result.translate((0, 0, 10))\n",
    "mesh2 = Mesh.fromVoxelModel(model_result_2)\n",
    "\n",
    "plot4 = k3d.plot()\n",
    "model_result_1.plot(plot4, name='transformed model', outlines=False)\n",
    "mesh2.plot(plot4, name='transformed mesh', wireframe=False)\n",
    "plot4.display()\n",
    "\n",
    "plot5 = k3d.plot()\n",
    "model_result_1.plot(plot5, name='transformed model', wireframe=True)\n",
    "mesh2.plot(plot5, name='transformed mesh')\n",
    "plot5.display()\n",
    "\n",
    "# Get elapsed time\n",
    "t2 = time.time()\n",
    "time3 = t2 - t1\n",
    "print('Time to generate plots: ' + str(time3) + ' sec')"
   ]
  }
 ],
 "metadata": {
  "kernelspec": {
   "display_name": "Python 3",
   "language": "python",
   "name": "python3"
  },
  "language_info": {
   "codemirror_mode": {
    "name": "ipython",
    "version": 3
   },
   "file_extension": ".py",
   "mimetype": "text/x-python",
   "name": "python",
   "nbconvert_exporter": "python",
   "pygments_lexer": "ipython3",
   "version": "3.9.5"
  }
 },
 "nbformat": 4,
 "nbformat_minor": 1
}
